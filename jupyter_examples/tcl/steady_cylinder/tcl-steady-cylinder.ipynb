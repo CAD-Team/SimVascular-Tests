{
 "cells": [
  {
   "cell_type": "code",
   "execution_count": 1,
   "metadata": {},
   "outputs": [
    {
     "name": "stdout",
     "output_type": "stream",
     "text": [
      "1\n"
     ]
    }
   ],
   "source": [
    "set SV_BATCH_MODE 1; set env(SV_BATCH_MODE) 1; set SV_RELEASE_BUILD 1"
   ]
  },
  {
   "cell_type": "code",
   "execution_count": 2,
   "metadata": {},
   "outputs": [
    {
     "name": "stdout",
     "output_type": "stream",
     "text": [
      "Loading vtk procs...\n",
      "assuming vtk 8.1\n",
      "  TclVtk:      Dynamic Libs (not_loaded: 0)\n",
      "Done loading vtk procs...\n",
      "ERROR: could not find registry key:\n",
      "HKEY_LOCAL_MACHINE\\SOFTWARE\\SimVascular\\SimVascular\\2019-02-26 RunDir\n",
      "Found svPre (C:\\Program Files\\SimVascular\\svSolver\\2019-01-25\\svpre-bin.exe)\n",
      "Found svPost (C:\\Program Files\\SimVascular\\svSolver\\2019-01-25\\svpost-bin.exe)\n",
      "Found svSolver (C:\\Program Files\\SimVascular\\svSolver\\2019-01-25\\svsolver-msmpi-bin.exe)\n"
     ]
    }
   ],
   "source": [
    "source $env(SV_HOME)/Tcl/SimVascular_2.0/simvascular_startup.tcl"
   ]
  },
  {
   "cell_type": "code",
   "execution_count": 3,
   "metadata": {},
   "outputs": [
    {
     "name": "stdout",
     "output_type": "stream",
     "text": [
      "PolyData\n",
      "TetGen\n",
      "TetGen\n",
      "PolyData\n"
     ]
    }
   ],
   "source": [
    "solid_setKernel -name PolyData\n",
    "mesh_setKernel -name TetGen\n",
    "set gOptions(meshing_kernel) TetGen\n",
    "set gOptions(meshing_solid_kernel) PolyData"
   ]
  },
  {
   "cell_type": "code",
   "execution_count": 4,
   "metadata": {},
   "outputs": [
    {
     "name": "stdout",
     "output_type": "stream",
     "text": [
      "4\n",
      "svLS\n",
      "64\n"
     ]
    }
   ],
   "source": [
    "set num_procs 4\n",
    "set selected_LS svLS\n",
    "set timesteps 64"
   ]
  },
  {
   "cell_type": "code",
   "execution_count": 5,
   "metadata": {},
   "outputs": [
    {
     "name": "stdout",
     "output_type": "stream",
     "text": [
      "C:/Program Files/SimVascular/svSolver/2019-01-25/svpre-bin.exe\n",
      "C:/Program Files/SimVascular/svSolver/2019-01-25/svpost-bin.exe\n",
      "C:/Program Files/Microsoft MPI//bin/mpiexec.exe\n",
      "C:/Program Files/SimVascular/svSolver/2019-01-25/svsolver-msmpi-bin.exe\n",
      "C:/Program Files/SimVascular/svSolver/2019-01-25\n"
     ]
    }
   ],
   "source": [
    "  if {[info vars PRESOLVER] == \"\"} {\n",
    "      set PRESOLVER     $gExternalPrograms(svpre)\n",
    "  }\n",
    "  if {[info vars POSTSOLVER] == \"\"} {\n",
    "      set POSTSOLVER    $gExternalPrograms(svpost)\n",
    "  }\n",
    "  if {[info vars MPIEXEC] == \"\"} {\n",
    "\tset MPIEXEC       $gExternalPrograms(mpiexec)\n",
    "  }\n",
    "  if {[info vars SOLVER] == \"\"} {\n",
    "\tset SOLVER        $gExternalPrograms(svsolver-mpi)\n",
    "  }\n",
    "  if {[info vars FLOWSOLVER_CONFIG] == \"\"} {\n",
    "\tset FLOWSOLVER_CONFIG [file dirname $gExternalPrograms(svsolver-mpi)]\n",
    "  }\n"
   ]
  },
  {
   "cell_type": "code",
   "execution_count": 6,
   "metadata": {},
   "outputs": [
    {
     "name": "stdout",
     "output_type": "stream",
     "text": []
    }
   ],
   "source": [
    "proc cylinder_create_model_PolyData {dstdir} {\n",
    "\n",
    "  # just copy the model for now\n",
    "\n",
    "  catch {repos_delete -obj cyl}\n",
    "  solid_readNative -file cylinder.vtp -obj cyl\n",
    "\n",
    "  file copy cylinder.vtp $dstdir\n",
    "  file copy cylinder.vtp.facenames $dstdir\n",
    "  \n",
    "  return [file join $dstdir cylinder.vtp]\n",
    "\n",
    "}\n"
   ]
  },
  {
   "cell_type": "code",
   "execution_count": 9,
   "metadata": {},
   "outputs": [
    {
     "name": "stdout",
     "output_type": "stream",
     "text": []
    }
   ],
   "source": [
    "proc steady_cylinder_create_mesh_TetGen {solidfn dstdir} {\n",
    "\n",
    "  #\n",
    "  #  Mesh the solid\n",
    "  #\n",
    "\n",
    "  puts \"Creating mesh.\"\n",
    "\n",
    "  # create meshsim style script file\n",
    "  set fp [open [file join $dstdir cylinder.tgs] w]\n",
    "  fconfigure $fp -translation lf\n",
    "  puts $fp \"msinit\"\n",
    "  puts $fp \"logon [file join $dstdir cylinder.logfile]\"\n",
    "  puts $fp \"loadModel $solidfn\"\n",
    "  puts $fp \"setSolidModel\"\n",
    "  puts $fp \"newMesh\"\n",
    "  puts $fp \"option surface 1\"\n",
    "  puts $fp \"option volume 1\"\n",
    "  puts $fp \"option GlobalEdgeSize 0.5\"\n",
    "  puts $fp \"wallFaces wall\"\n",
    "  puts $fp \"option QualityRatio 1.4\"\n",
    "  puts $fp \"option NoBisect 1\"\n",
    "  puts $fp \"generateMesh\"\n",
    "  puts $fp \"writeMesh [file join $dstdir cylinder.sms] vtu 0\"\n",
    "  puts $fp \"deleteMesh\"\n",
    "  puts $fp \"deleteModel\"\n",
    "  puts $fp \"logoff\"\n",
    "  close $fp\n",
    "\n",
    "  catch {repos_delete -obj mymesh}\n",
    "  mesh_readTGS [file join $dstdir cylinder.tgs] mymesh\n",
    "\n",
    "  puts \"Writing out mesh surfaces.\"\n",
    "  file mkdir [file join $dstdir mesh-complete]\n",
    "  file mkdir [file join $dstdir mesh-complete mesh-surfaces]\n",
    "\n",
    "   mesh_writeCompleteMesh mymesh cyl cylinder [file join $dstdir mesh-complete]\n",
    "\n",
    "}"
   ]
  },
  {
   "cell_type": "code",
   "execution_count": 10,
   "metadata": {},
   "outputs": [
    {
     "name": "stdout",
     "output_type": "stream",
     "text": []
    }
   ],
   "source": [
    "proc steady_cylinder_create_flow_files_generic {dstdir} {\n",
    "\n",
    "  # Write steady flowrate\n",
    "  file mkdir [file join $dstdir flow-files]\n",
    "  set fp [open [file join $dstdir flow-files inflow.flow] \"w\"]\n",
    "  puts $fp \"\\#  Time (sec)   Flow (mm^3/sec)\"\n",
    "  puts $fp \"0   -1570.796327\"\n",
    "  puts $fp \"0.2 -1570.796327\"\n",
    "  close $fp\n",
    "\n",
    "}\n",
    "\n",
    "proc steady_cylinder_create_bc_files_generic {solidfn dstdir} {\n",
    "\n",
    "  #\n",
    "  #  Create an analytic Inflow Waveform and create a flow file.\n",
    "  #  Also calculate the FFT of the waveform for later.\n",
    "  #\n",
    "\n",
    "  steady_cylinder_create_flow_files_generic $dstdir\n",
    "  \n",
    "  puts \"Generating sinusodial volumetric flow waveform.\"\n",
    "  set viscosity 0.004\n",
    "  set density 0.00106\n",
    "  set T 0.2\n",
    "  set Vbar 135\n",
    "  set radius 2\n",
    "  set omega [expr 2.0*[math_pi]/$T]\n",
    "\n",
    "  puts \"Write bct.dat and bct.vtp files.\"\n",
    "  global gBC\n",
    "  global guiABC\n",
    "  global gFilenames\n",
    "\n",
    "  # load in the solid used for meshing\n",
    "  # set both vars to handle any type of model\n",
    "  set gFilenames(atdb_solid_file) $solidfn\n",
    "  set gFilenames(polydata_solid_file) $solidfn\n",
    "  wormGUIloadSolidModel\n",
    "\n",
    "  # set params\n",
    "  set gBC(period) $T\n",
    "  set guiABC(viscosity) $viscosity\n",
    "  set guiABC(density) $density\n",
    "  set guiABC(type_of_profile) plug\n",
    "\n",
    "  set guiABC(mesh_face_file) \"\"\n",
    "  set guiABC(flow_rate_file) \"\"\n",
    "  set guiABC(bct_dat_file)   \"\"\n",
    "  set guiABC(bct_vtp_file)   \"\"\n",
    "  set guiABC(face_name) {$facename}\n",
    "  set guiABC(mesh_face_file) [file join $dstdir mesh-complete mesh-surfaces \\$facename.vtp]\n",
    "  set guiABC(flow_rate_file) [file join $dstdir flow-files \\$facename.flow]\n",
    "  set guiABC(bct_dat_file)   [file join $dstdir bct.dat.\\$facename]\n",
    "  set guiABC(bct_vtp_file)   [file join $dstdir bct.vtp.\\$facename]\n",
    "\n",
    "  # write files\n",
    "  wormGUIwriteMultipleFaces\n",
    "}\n"
   ]
  },
  {
   "cell_type": "code",
   "execution_count": 14,
   "metadata": {},
   "outputs": [
    {
     "name": "stdout",
     "output_type": "stream",
     "text": [
      "cyl /tmp/solid/pd mymesh\n"
     ]
    }
   ],
   "source": [
    "set guiMMvars(meshGenerateVolumeMesh) 1"
   ]
  },
  {
   "cell_type": "code",
   "execution_count": 10,
   "metadata": {},
   "outputs": [
    {
     "name": "stdout",
     "output_type": "stream",
     "text": [
      "C:/tmp\n"
     ]
    }
   ],
   "source": [
    "cd C:/tmp;pwd"
   ]
  },
  {
   "cell_type": "code",
   "execution_count": 16,
   "metadata": {},
   "outputs": [
    {
     "name": "stdout",
     "output_type": "stream",
     "text": [
      "03-04-2019-172311\n",
      "C:/tmp/03-04-2019-172311\n",
      "C:/tmp/03-04-2019-172311/4-procs_case\n",
      "C:/tmp/03-04-2019-172311/cylinder.vtp\n",
      "Creating mesh.\n",
      "TetGen\n",
      "TetGen\n",
      "line: msinit\n",
      "ignoring line: <msinit>\n",
      "line: logon C:/tmp/03-04-2019-172311/cylinder.logfile\n",
      "line: loadModel C:/tmp/03-04-2019-172311/cylinder.vtp\n",
      "Filename: C:/tmp/03-04-2019-172311/cylinder.vtp\n",
      "sourcing C:/tmp/03-04-2019-172311/cylinder.vtp.facenames\n"
     ]
    }
   ],
   "source": [
    "set rundir [clock format [clock seconds] -format \"%m-%d-%Y-%H%M%S\"]\n",
    "set fullrundir [file join [pwd] $rundir]\n",
    "file mkdir $fullrundir\n",
    "\n",
    "if {$num_procs == 1} {\n",
    "  set fullsimdir $fullrundir\n",
    "} else {\n",
    "  set fullsimdir [file join $fullrundir $num_procs-procs_case]\n",
    "}\n",
    "\n",
    "set solidfn [cylinder_create_model_$gOptions(meshing_solid_kernel) $fullrundir]\n",
    "steady_cylinder_create_mesh_$gOptions(meshing_kernel) $solidfn $fullrundir"
   ]
  },
  {
   "cell_type": "code",
   "execution_count": 17,
   "metadata": {},
   "outputs": [
    {
     "name": "stdout",
     "output_type": "stream",
     "text": [
      "line: setSolidModel\n",
      "line: newMesh\n",
      "Converting to TetGen...\n",
      "Converting Points...\n",
      "Converting Faces...\n",
      "Adding Facet Markers...\n",
      "line: option surface 1\n",
      "line: option volume 1\n",
      "line: option GlobalEdgeSize 0.5\n",
      "line: wallFaces wall\n",
      "name_id: 2\n",
      "line: option QualityRatio 1.4\n",
      "line: option NoBisect 1\n",
      "line: generateMesh\n",
      "Remeshing surface with MMG...\n",
      "TetGen Meshing Started...\n",
      "Delaunizing vertices...\n",
      "Delaunay seconds:  0.037\n",
      "Creating surface mesh ...\n",
      "Surface mesh seconds:  0.009\n",
      "Recovering boundaries...\n",
      "Boundary recovery seconds:  0.014\n",
      "Removing exterior tetrahedra ...\n",
      "Exterior tets removal seconds:  0.005\n",
      "Recovering Delaunayness...\n",
      "Delaunay recovery seconds:  0.006\n",
      "Refining mesh...\n",
      "Refinement seconds:  0.104\n",
      "Optimizing mesh...\n",
      "Optimization seconds:  0.011\n",
      "\n",
      "Writing nodes.\n",
      "Writing elements.\n",
      "Writing faces.\n",
      "Writing edges.\n",
      "Writing neighbors.\n",
      "\n",
      "Output seconds:  0.003\n",
      "Total running seconds:  0.19\n",
      "\n",
      "Statistics:\n",
      "\n",
      "  Input points: 3235\n",
      "  Input facets: 6466\n",
      "  Input holes: 0\n",
      "  Input regions: 0\n",
      "\n",
      "  Mesh points: 9159\n",
      "  Mesh tetrahedra: 47551\n",
      "  Mesh faces: 98335\n",
      "  Mesh faces on facets: 6466\n",
      "  Mesh edges on segments: 9699\n",
      "  Steiner points inside domain: 5924\n",
      "\n",
      "TetGen Meshing Finished...\n",
      "Converting Faces to VTK Structures...\n",
      "  -- MMGS, Release 5.3.8 (Apr. 10, 2017) \n",
      "     Copyright (c) IMB-LJLL, 2004-\n",
      "     Oct 29 2018 06:41:54\n",
      "\n",
      "  -- MMGS: INPUT DATA\n",
      "  --  INPUT DATA COMPLETED.     0.000s\n",
      "\n",
      "  &&&&&&&&&&&&&&&&&&&&&&&&&&&&&&&&&&&&&&&&&&&&&&&&&&&&&&&&&&&&\n",
      "   MODULE MMGS: IMB-LJLL : 5.3.8 (Apr. 10, 2017)\n",
      "  &&&&&&&&&&&&&&&&&&&&&&&&&&&&&&&&&&&&&&&&&&&&&&&&&&&&&&&&&&&&\n",
      "\n",
      "  -- PHASE 1 : ANALYSIS\n",
      "\n",
      "  -- MESH QUALITY   1736\n",
      "     BEST   0.998078  AVRG.   0.844699  WRST.   0.023622 (526)\n",
      "  -- PHASE 1 COMPLETED.     0.000s\n",
      "\n",
      "  -- PHASE 2 : ISOTROPIC MESHING\n",
      "         1720 splitted,       88 collapsed,       32 swapped, 2 iter.\n",
      "\n",
      "  -- GRADATION : 1.300000\n",
      "           37 splitted,       99 collapsed,     1436 swapped,    79635 moved, 2 iter. \n",
      "  -- PHASE 2 COMPLETED.     0.000s\n",
      "\n",
      "  &&&&&&&&&&&&&&&&&&&&&&&&&&&&&&&&&&&&&&&&&&&&&&&&&&&&&&&&&&&&\n",
      "   END OF MODULE MMGS: IMB-LJLL \n",
      "  &&&&&&&&&&&&&&&&&&&&&&&&&&&&&&&&&&&&&&&&&&&&&&&&&&&&&&&&&&&&\n",
      "\n",
      "  -- MESH QUALITY   6484\n",
      "     BEST   0.999999  AVRG.   0.980680  WRST.   0.555231 (3008)\n",
      "\n",
      "  -- MESH PACKED UP\n",
      "     NUMBER OF VERTICES       3244   CORNERS        0\n",
      "     NUMBER OF TRIANGLES      6484\n",
      "     NUMBER OF EDGES            72   RIDGES        72\n",
      "\n",
      "   MMGSLIB: ELAPSED TIME  0.000s\n",
      "Checking surface mesh\n",
      "Regions: 1\n",
      "Number of Free Edges on Surface: 72\n",
      "Number of Non-Manifold Edges on Surface: 0\n",
      "Iteration 1/10\n",
      "Iteration 2/10\n",
      "Iteration 3/10\n",
      "Iteration 4/10\n",
      "Iteration 5/10\n",
      "Iteration 6/10\n",
      "Iteration 7/10\n",
      "Iteration 8/10\n",
      "Iteration 9/10\n",
      "Iteration 10/10\n",
      "Final mesh improvement\n",
      "Converting to TetGen...\n",
      "Converting Points...\n",
      "Converting Faces...\n",
      "Adding Facet Markers...\n",
      "Converting Points to VTK Structures...\n",
      "Converting Elements to VTK Structures...\n",
      "line: writeMesh C:/tmp/03-04-2019-172311/cylinder.sms vtu 0\n",
      "line: deleteMesh\n",
      "ignoring line: <deleteMesh>\n",
      "line: deleteModel\n",
      "ignoring line: <deleteModel>\n",
      "line: logoff\n",
      "Writing out mesh surfaces.\n",
      "faceinfo: 1 1 {}\n",
      "faceinfo: 2 2 {}\n",
      "faceinfo: 3 3 {}\n",
      "1\n",
      "03-04-2019-172315\n",
      "C:/tmp/03-04-2019-172315\n",
      "C:/tmp/03-04-2019-172315/4-procs_case\n",
      "C:/tmp/03-04-2019-172315/cylinder.vtp\n",
      "Creating mesh.\n",
      "TetGen\n",
      "TetGen\n",
      "line: msinit\n",
      "ignoring line: <msinit>\n",
      "line: logon C:/tmp/03-04-2019-172315/cylinder.logfile\n",
      "line: loadModel C:/tmp/03-04-2019-172315/cylinder.vtp\n",
      "Filename: C:/tmp/03-04-2019-172315/cylinder.vtp\n",
      "sourcing C:/tmp/03-04-2019-172315/cylinder.vtp.facenames\n",
      "line: setSolidModel\n",
      "line: newMesh\n",
      "Converting to TetGen...\n",
      "Converting Points...\n",
      "Converting Faces...\n",
      "Adding Facet Markers...\n",
      "line: option surface 1\n",
      "line: option volume 1\n",
      "line: option GlobalEdgeSize 0.5\n",
      "line: wallFaces wall\n",
      "name_id: 2\n",
      "line: option QualityRatio 1.4\n",
      "line: option NoBisect 1\n",
      "line: generateMesh\n",
      "Remeshing surface with MMG...\n",
      "TetGen Meshing Started...\n",
      "Delaunizing vertices...\n",
      "Delaunay seconds:  0.027\n",
      "Creating surface mesh ...\n",
      "Surface mesh seconds:  0.005\n",
      "Recovering boundaries...\n",
      "Boundary recovery seconds:  0.012\n",
      "Removing exterior tetrahedra ...\n",
      "Exterior tets removal seconds:  0.005\n",
      "Recovering Delaunayness...\n",
      "Delaunay recovery seconds:  0.006\n",
      "Refining mesh...\n",
      "Refinement seconds:  0.105\n",
      "Optimizing mesh...\n",
      "Optimization seconds:  0.011\n",
      "\n",
      "Writing nodes.\n",
      "Writing elements.\n",
      "Writing faces.\n",
      "Writing edges.\n",
      "Writing neighbors.\n",
      "\n",
      "Output seconds:  0.003\n",
      "Total running seconds:  0.174\n",
      "\n",
      "Statistics:\n",
      "\n",
      "  Input points: 3235\n",
      "  Input facets: 6466\n",
      "  Input holes: 0\n",
      "  Input regions: 0\n",
      "\n",
      "  Mesh points: 9159\n",
      "  Mesh tetrahedra: 47551\n",
      "  Mesh faces: 98335\n",
      "  Mesh faces on facets: 6466\n",
      "  Mesh edges on segments: 9699\n",
      "  Steiner points inside domain: 5924\n",
      "\n",
      "TetGen Meshing Finished...\n",
      "Converting Faces to VTK Structures...\n",
      "  -- MMGS, Release 5.3.8 (Apr. 10, 2017) \n",
      "     Copyright (c) IMB-LJLL, 2004-\n",
      "     Oct 29 2018 06:41:54\n",
      "\n",
      "  -- MMGS: INPUT DATA\n",
      "  --  INPUT DATA COMPLETED.     0.000s\n",
      "\n",
      "  &&&&&&&&&&&&&&&&&&&&&&&&&&&&&&&&&&&&&&&&&&&&&&&&&&&&&&&&&&&&\n",
      "   MODULE MMGS: IMB-LJLL : 5.3.8 (Apr. 10, 2017)\n",
      "  &&&&&&&&&&&&&&&&&&&&&&&&&&&&&&&&&&&&&&&&&&&&&&&&&&&&&&&&&&&&\n",
      "\n",
      "  -- PHASE 1 : ANALYSIS\n",
      "\n",
      "  -- MESH QUALITY   1736\n",
      "     BEST   0.998078  AVRG.   0.844699  WRST.   0.023622 (526)\n",
      "  -- PHASE 1 COMPLETED.     0.000s\n",
      "\n",
      "  -- PHASE 2 : ISOTROPIC MESHING\n",
      "         1720 splitted,       88 collapsed,       32 swapped, 2 iter.\n",
      "\n",
      "  -- GRADATION : 1.300000\n",
      "           37 splitted,       99 collapsed,     1436 swapped,    79635 moved, 2 iter. \n",
      "  -- PHASE 2 COMPLETED.     0.000s\n",
      "\n",
      "  &&&&&&&&&&&&&&&&&&&&&&&&&&&&&&&&&&&&&&&&&&&&&&&&&&&&&&&&&&&&\n",
      "   END OF MODULE MMGS: IMB-LJLL \n",
      "  &&&&&&&&&&&&&&&&&&&&&&&&&&&&&&&&&&&&&&&&&&&&&&&&&&&&&&&&&&&&\n",
      "\n",
      "  -- MESH QUALITY   6484\n",
      "     BEST   0.999999  AVRG.   0.980680  WRST.   0.555231 (3008)\n",
      "\n",
      "  -- MESH PACKED UP\n",
      "     NUMBER OF VERTICES       3244   CORNERS        0\n",
      "     NUMBER OF TRIANGLES      6484\n",
      "     NUMBER OF EDGES            72   RIDGES        72\n",
      "\n",
      "   MMGSLIB: ELAPSED TIME  0.000s\n",
      "Checking surface mesh\n",
      "Regions: 1\n",
      "Number of Free Edges on Surface: 72\n",
      "Number of Non-Manifold Edges on Surface: 0\n",
      "Iteration 1/10\n",
      "Iteration 2/10\n",
      "Iteration 3/10\n"
     ]
    }
   ],
   "source": [
    "repos_list\n"
   ]
  },
  {
   "cell_type": "code",
   "execution_count": 18,
   "metadata": {},
   "outputs": [
    {
     "name": "stdout",
     "output_type": "stream",
     "text": [
      "Iteration 4/10\n",
      "Iteration 5/10\n",
      "Iteration 6/10\n",
      "Iteration 7/10\n",
      "Iteration 8/10\n",
      "Iteration 9/10\n",
      "Iteration 10/10\n",
      "Final mesh improvement\n",
      "Converting to TetGen...\n",
      "Converting Points...\n",
      "Converting Faces...\n",
      "Adding Facet Markers...\n",
      "Converting Points to VTK Structures...\n",
      "Converting Elements to VTK Structures...\n",
      "line: writeMesh C:/tmp/03-04-2019-172315/cylinder.sms vtu 0\n",
      "line: deleteMesh\n",
      "ignoring line: <deleteMesh>\n",
      "line: deleteModel\n",
      "ignoring line: <deleteModel>\n",
      "line: logoff\n",
      "Writing out mesh surfaces.\n",
      "faceinfo: 1 1 {}\n",
      "faceinfo: 2 2 {}\n",
      "faceinfo: 3 3 {}\n",
      "1\n",
      "cyl /tmp/solid/pd mymesh\n"
     ]
    }
   ],
   "source": [
    "repos_list"
   ]
  },
  {
   "cell_type": "code",
   "execution_count": 19,
   "metadata": {},
   "outputs": [
    {
     "name": "stdout",
     "output_type": "stream",
     "text": [
      "cyl /tmp/solid/pd mymesh\n"
     ]
    }
   ],
   "source": [
    "repos_list\n"
   ]
  },
  {
   "cell_type": "code",
   "execution_count": 22,
   "metadata": {},
   "outputs": [
    {
     "name": "stdout",
     "output_type": "stream",
     "text": [
      "repos_clearLabel repos_getstring repos_writeVtkStructuredPoints repos_load repos_delete repos_save repos_delete_wrapper repos_importVtkImg repos_keyInUse repos_getLabel repos_getObjTok repos_importVtkPd repos_importVtkSp repos_sorted repos_exists repos_readVtkPolyData repos_subList repos_readXMLPolyData repos_getLabelKeys repos_writeVtkPolyData repos_writeXMLPolyData repos_exportToVtk repos_writeVtkUnstructuredGrid repos_type repos_setLabel repos_setstring repos_list repos_importVtkUnstructuredGrid repos_deleteList\n"
     ]
    }
   ],
   "source": [
    "info commands repos_*"
   ]
  },
  {
   "cell_type": "code",
   "execution_count": 24,
   "metadata": {},
   "outputs": [
    {
     "name": "stdout",
     "output_type": "stream",
     "text": [
      ".ipynb_checkpoints 02-08-2019-210136 02-08-2019-210425 02-08-2019-210507 03-04-2019-171418 03-04-2019-172311 03-04-2019-172315 2019-03-04-juypter_examples cylinder.vtp cylinder.vtp.facenames manually-generated-tests nate.vtp python-cube-render.ipynb simvascular_small.tcl tcl-devel.ipynb tcl-vis-cube-for-fanwei.ipynb tcl-vis-cube.ipynb tcl.tcl Untitled.ipynb Untitled1.ipynb Untitled10.ipynb Untitled100.ipynb Untitled101.ipynb Untitled102.ipynb Untitled103.ipynb Untitled104.ipynb Untitled105.ipynb Untitled11.ipynb Untitled12.ipynb Untitled13.ipynb Untitled14.ipynb Untitled15.ipynb Untitled16.ipynb Untitled17.ipynb Untitled18.ipynb Untitled19.ipynb Untitled2.ipynb Untitled20.ipynb Untitled21.ipynb Untitled22.ipynb Untitled23.ipynb Untitled24.ipynb Untitled25.ipynb Untitled26.ipynb Untitled27.ipynb Untitled28.ipynb Untitled29.ipynb Untitled3.ipynb Untitled30.ipynb Untitled31.ipynb Untitled32.ipynb Untitled33.ipynb Untitled34.ipynb Untitled35.ipynb Untitled36.ipynb Untitled37.ipynb Untitled38.ipynb Untitled39.ipynb Untitled4.ipynb Untitled40.ipynb Untitled41.ipynb Untitled42.ipynb Untitled43.ipynb Untitled44.ipynb Untitled45.ipynb Untitled46.ipynb Untitled47.ipynb Untitled48.ipynb Untitled49.ipynb Untitled5.ipynb Untitled50.ipynb Untitled51.ipynb Untitled52.ipynb Untitled53.ipynb Untitled54.ipynb Untitled55.ipynb Untitled56.ipynb Untitled57.ipynb Untitled58.ipynb Untitled59.ipynb Untitled6.ipynb Untitled60.ipynb Untitled61.ipynb Untitled62.ipynb Untitled63.ipynb Untitled64.ipynb Untitled65.ipynb Untitled66.ipynb Untitled67.ipynb Untitled68.ipynb Untitled69.ipynb Untitled7.ipynb Untitled70.ipynb Untitled71.ipynb Untitled72.ipynb Untitled73.ipynb Untitled74.ipynb Untitled75.ipynb Untitled76.ipynb Untitled77.ipynb Untitled78.ipynb Untitled79.ipynb Untitled8.ipynb Untitled80.ipynb Untitled81.ipynb Untitled82.ipynb Untitled83.ipynb Untitled84.ipynb Untitled85.ipynb Untitled86.ipynb Untitled87.ipynb Untitled88.ipynb Untitled89.ipynb Untitled9.ipynb Untitled90.ipynb Untitled91.ipynb Untitled92.ipynb Untitled93.ipynb Untitled94.ipynb Untitled95.ipynb Untitled96.ipynb Untitled97.ipynb Untitled98.ipynb Untitled99.ipynb vis-polydata-cube-python.ipynb\n"
     ]
    }
   ],
   "source": [
    "glob *"
   ]
  },
  {
   "cell_type": "code",
   "execution_count": 15,
   "metadata": {},
   "outputs": [
    {
     "name": "stdout",
     "output_type": "stream",
     "text": [
      "invalid command name \"cmdExists\"\n"
     ]
    }
   ],
   "source": [
    "vis_initgr \"Nathan\""
   ]
  },
  {
   "cell_type": "code",
   "execution_count": 16,
   "metadata": {},
   "outputs": [
    {
     "name": "stdout",
     "output_type": "stream",
     "text": [
      "invalid command name \"cmdExists\"\n"
     ]
    }
   ],
   "source": [
    "cmdExists foo"
   ]
  },
  {
   "cell_type": "code",
   "execution_count": 17,
   "metadata": {},
   "outputs": [
    {
     "name": "stdout",
     "output_type": "stream",
     "text": []
    }
   ],
   "source": [
    "vis_init"
   ]
  },
  {
   "cell_type": "code",
   "execution_count": 18,
   "metadata": {},
   "outputs": [
    {
     "name": "stdout",
     "output_type": "stream",
     "text": [
      "seg_3DRenForScreen vis_splineImageWidgetRm RCR_parameter_estimator math_scaleVec dcm_img2_readSliceROI guiTGmeshCoarsenPercent vtp_calc_avg_pressure vis_planeWidgetOn vis_interactorSpecialRotate tmpobj PickSeedNoCrosshairs pkg_mkIndex vis_volShadeOff vis_splineClosedWidgetGetSamplePts vis_nodeRmVtk vis_gridSetDataOrigin guiMMextractBoundaries vtu_extractSingleFace auto_reset pause vis_renRestoreCamFromFile vis_imgRepos vis_movieSaveCameraStatesToFile vis_planeWidgetRm RCR_utility_optimize_func vis_splineClosedWidgetUpdatePtsPlaneOnly solid_mkDiscreteModel tk_textPaste vis_nodeAddRepos math_magnitude vis_interactorB1release vis_splineClosedWidgetRmSlice vis_boxWidgetGetEnabled vis_vGetActor vis_sphereWidget2GetEnabled vis_pExists vis_boxWidgetGetPlanes geom_densify math_matrix_mult_3x1 file_dos2unix svView guiTGmeshOptimization lset2_getMinH vis_sphereWidgetScaleOff vis_pGetDisplayedActors2D seg_writeSliceSegEdgePNG dicom_createPatientFile PolyDataVMTKCenterlines vis_interactorToggle vis_volRm vis_unvolSetGradientTransferFunction math_radToDeg lset_step vis_initTKgr polydata_threshold_region tclPkgUnknown vis_boxWidgetAdd vtu_create_wss_osi_pulse mesh_writeInflowFaceVtk vis_sphereWidgetGetSphere vis_renSetBackgroundChooseColor vis_splineWidgetGetNumHandles Rotate RCR_read_flow_file vis_nodeShowOriginMarker CameraRoll seg3d_saveSeg SurfaceWithEdges dicom_findMaxMinFromHeaders vis_splineImageWidgetUpdatePtsPlaneOnly vis_planeWidgetOff vis_nodeSetup dicom_deidentify_destroy_file vis_splineImageWidgetCalcSlices GetWidgetVariable RCR_estimator vis_pGetName2D vis_warpScaleFactor lset2_cfgVPotential vis_imgSetFile return_face_id geom_quadraticDecimation math_translatePt group_restorePCMRISegs vis_warpTranslate seg_writeSliceTiff tk_textCut PickActor math_distance dcm_img_readHeader lset_cfgVConst vis_warpShowRepos seg_ShowSplines trimLeadZeros seg_writeSliceSegEdgeTIFF vis_pRepos2D vis_nodeClr img_getSliceAtPathPoint group_get_color createSolidBoundaries bctdat_to_vtp vis_warpSetColor geom_applyTransformMatrix vis_nodeRmOriginMarker polydata_check_array_exists seg3d_readSurf vis_pGetActor post_sampleToRawVolume math_matrix_mult_scale vis_sphereWidgetGetBB group_readProfiles dicom_sortCardiacFiles path_calcLength vis_splineWidgetOn lset_showV dicom_generateUID vis_vSetColor htmlFilter guiMMreadTetGenScriptFile group_saveProfiles math_matrix_mult tetGenSourceAdaptScript vis_renNew findCmds guiREFINEsetRefineSphereRadius seg_getPDSurf dcm_ijkRAS modules_registry_query_latest vis_splineWidgetRm vis_boxWidgetOff vis_sphereWidgetAdd img_calcTransformMatrixToRAS lset_gridDims guiMMcreateTetGenScriptFile geom_openLinesFromPts geom_scale string_parse seg3d_names vis_planeWidgetSetNormal svGetUnixColor vis_textClr vis_pRm solid_instances vis_warpClr vis_splineCircleWidgetUpdatePts vis_pGetDisplayedActors group_writeVTK guiSPHEREvis unknown vis_warpRm vis_vSetScale vis_splineWidgetSetPts auto_import seg3d_loadSeg RCR_calc_pressures vis_splineImageWidgetSetPts auto_execok PolyDataVMTKGetCenterIds repos_delete_wrapper lset_run vis_splineCircleWidgetSetNumHandles lset_for geom_appendPds vis_imgShow seg_writeVolumeMha img_magGrad auto_mkindex Surface group_idtaken mesh_readTGS vis_splineWidgetGetPts vis_moviePlay geom_getSubsetOfPts vtu_combine_steps vis_splineImageWidgetGetPts vis_gridSetColor tail post_getSurfMesh vis_pEdge img2_readSlice_5X vis_nodeRmAll Pan geom_scaleScalars Resistance_Ratio_Calculator vis_splineWidgetUpdatePts vis_boxWidgetRotateOn math_findMaxPos math_angleBtw3DVectors bctdat_getNumNodes img_castToShort math_writeCirclePgn group_remove PolyDataThreshold PickPolyDataFace seg_saveSmasherPolyData group_idvalue math_areaTriangle geom_orientPd vis_utilsGetRGBfromColorString vis_planeWidgetSetOrigin vis_splineCircleWidgetCalcTrans repos_keyInUse bctdat_checkFile DoRubberZoom img_readDICOM img_copy_sorted_images vis_renSaveCamera trimInt vis_interactorGeneric post_TKE vis_volShadeOn group_get lset_initCore vis_sphereWidgetGetCenter vis_renPerspectiveProjection contourVolumeTests vis_renRmProp math_dot lset2_showV DeselectPickedActor vis_lodSetColor vis_objRmAll vis_lodSetOpacity vis_initgr seg_reSaveModelParasolidAsPolydata img_calcBaselineCorrectionEqn solid_unionSet vtu_extractFaceFromFiles group_names seg_writeSegData vis_planeWidgetSetPoint1 geom_calcTransformMatrixToRAS vis_planeWidgetSetPoint2 vis_splineImageWidgetSetNumHandles vis_sphereWidgetOff post_tweak_pulsatile_bc vis_boxWidgetOn lset_combine post_cutAndClipResults vis_volSetGradientTransferFunction vis_splineClosedWidgetGetNumHandles vis_warpDecolorize SetWidgetVariableValue lset_cfgVPotential geom_mkSphere vis_movieGetNumberOfSavedStates geom_localOperation Expose vis_boxWidgetRm modules_registry_query vis_sphereWidgetGetEnabled vis_lodRm vis_renSaveCamToFile IncrementColorMap group_summary_all img_mkThrImg file_find vis_vColorWithScalars Reset RCR_branch_estimator vis_warpSetup file_cat img_readDICOMwriteXML vis_boxWidgetGetPlanesPtsAndNrms geom_fillSurfaceVoid vis_warpScalars vis_showK mvres PickPolyDataPoint cancelTail vis_pointWidgetOn geom_ellipse img_readSliceROI_5X math_subVectors lset2_cfgVExpDecay vis_phongShading vis_splineImageWidgetUpdatePts math_isDouble img_getNumPasses img_readSlice_5X geom_mkLinesFromPts tclLog vis_vRmAll VirtualPickActor vis_gridShow geom_closestPt view_slice RenderCameraView vis_pointWidgetRm bctdat_combine img_loadVTI vis_volSetColorTransferFunction img_writeXML vis_pRmAll math_factorial group_itemid geom_circle vis_textSet lset_getK math_matrix_add geom_butterfly group_summary RCR_create_multi_branch_rcrtdat group_delete repos_getObjTok printList seg3d_saveSurf group_itemix vis_planeWidgetGetNormal vis_movieSaveImages lset2_main lset_configureV tk_menuSetFocus TupleToList math_normalize geom_largestConnected vis_textRm auto_mkindex_old img_createOrientedPolyData AreaMetric_go vis_warpSurf vis_unvolShadeOff vis_splineImageWidgetCalcTrans geom_getPts tclPkgSetup vis_vRepos seg3d_delete geom_pdFromOrderedPts vis_pRepos vis_splineCircleWidgetAdd vis_sphereWidget2GetSphere vtp_extractSingleFace SetRenderCameraView geom_scaleVectorComponents vis_movieLoadCameraStatesFromFile mesh_writeCompleteMeshFromFiles dcm_img2_readSlice vtu_extractFaceFileFromUG dicom_summary vtkobj_translate_shift lset_getMinH vis_movieInit vis_register vis_splineClosedWidgetOn PickPointNoCrosshairs geom_mapVectors img_findPCMRIorientation vis_gridSetDataExtent EndMotion vis_renAddProp math_addVectors vis_splineClosedWidgetRm vis_planeWidgetGetOrigin BindTkRenderWidget geom_fillHoles vis_init guiSV_model_remesh_polydata_mmg repos_sorted UpdateRenderer vis_renRestoreCamera PickPolyDataCell initgr dcm_img_readSliceROI img_contour auto_load_index vis_imgInit img_getAllPassImages vis_textExists img_createMIP vis_boxWidgetGetBB vis_volSetSampleDistance guiChooseOutputDirectory geom_fillHolesWithIds Enter check_surface_for_capids vis_pGetActor2D vis_pointWidgetSetPosition vis_planeWidgetGetPoint1 vis_planeWidgetGetPoint2 geom_getFreeEdges vtp_momentumInFace vis_pGetName auto_qualify guiREFINEsphereEndInteraction meshSimWriteAdaptMeshScript vis_sphereWidgetSetRadius set_facenames_as_groupnames vis_planeWidgetSetCenter vis_imgUnshow group_copy_member vis_renParallelProjection vis_volSetOpacityTransferFunction vis_splineClosedWidgetAdd vis_interactorRotate seg_AppendSplines path_renumberPaths seg_SavePathsAsPolyData vis_lodRepos geom_smooth img_findObliqueCornersMinMaxRAS vis_volRepos vis_vColorWithoutScalars vis_imgSetOrigin guiREFINEsphereBeginInteraction math_matrix_power history geom_createNormals geom_calcTransformMatrixToRASWithTol dicom_deidentify_file vtx_TemporalFlowThruFaces seg_takeScreenShots vis_splineCircleWidgetOff repos_subList vis_renAddActor img2_readSliceROI_5X vis_splineWidgetAdd vis_splineCircleWidgetGetNumHandles vis_renSetBackground vis_splineClosedWidgetCalcSlice vis_nodeExists vtu_extractFace vtp_create_wss_osi_pulse vis_flatShading seg3d_add vis_boxWidgetRotateOff repos_readXMLPolyData vis_movieRemoveLastCameraState img_maskImg vis_pRmAll2D cleanList vis_warpSetOpacity guiREFINEsphereEnableInteraction vis_sphereWidget2Add vis_pointWidgetAdd geom_cap_with_delaunay math_cross group_renumber vis_pNorm math_circlePt lset_cfgVExpDecay vis_movieRetrieveSmoothState lset_runClear vis_nodeRmRepos vis_movieRetrieveNextSmoothState vis_movieCreateSmoothStates vis_unvolSetOpacityTransferFunction combine_all_wall_files vis_splineImageWidgetAdd shortwait RubberZoom img_castToFloat vis_pSurf img_getCollapseImages meshSimSourceAdaptScript img_guessRASmax img_createSegVelPD mesh_writeCompleteMesh create_pvd PolyDataFillHoles vis_warpColorize vis_splineImageWidgetGetNumHandles math_linInterp1D vis_renRmActor guiTGmeshQuality vis_unvolShadeOn dicom_deidentify_multiple_files vis_vRm PolyDataRemeshSurfaces lset_gridOrig vis_renWriteJPEG vis_splineClosedWidgetUpdatePts vis_splineImageWidgetRmSlices vis_splineClosedWidgetOff crd_ren seg_convertPdtoVolume vis_splineCircleWidgetOn file_append vis_gridInit quit rmAllActors guiMeshSimAdaptMesh vis_splineWidgetSetNumHandles calc_rotation_matrix vis_movieRetrieveNextState path_MakePolyData ListToTuple seg_convertModeltoVolume PolyDataCombine RCR_branch_optimize_PP vis_pRm2D group_restorePreopSegs vis_splineCircleWidgetRm repos_writeXMLPolyData vis_splineWidgetOff geom_getFeatureEdges img_guessRASmin vis_unvolSetSampleDistance lset_cfgVSmooth vis_pReposColor vis_renReset vtp_integrateFace guiTetGenAdaptMesh seg3d_addForce math_isInt vis_sphereWidget2GetBB vis_splineImageWidgetSetShowIds vis_sphereWidgetScaleOn vis_deletePickedActor math_d2f dicom_sortFiles vis_sphereWidget2Off return_pd_region_names vis_pointWidgetOff vis_gridSetDataSpacing math_pi vis_unvolSetColorTransferFunction vis_splineClosedWidgetCalcTrans RCR_stdout_to_fn vis_vGetName group_create vis_unregister vis_nodeSize tetGenWriteAdaptMeshScript generalView CombinePolyDataFaces lset_showVConst seg_extractParasolidStuff vis_sphereWidgetOn vis_splineImageWidgetOff RCR_TAC_optimize PickPolyDataFaces seg_writeSliceAndMaskTiff vis_objRm tk_inputDialog mesh_readMSS group_calcAreas vis_sphereWidgetGetRadius vis_gridSetOpacity StartMotion group_add vis_planeWidgetGetCenter vis_gouraudShading vis_volSetShadingParameters lset2_gridType geom_polygonFromPts vis_sphereWidgetRm seg_LoadAll vis_textSetColor Wireframe vis_unvolRm group_exists guiREFINEsphereInteract geom_triangulate vis_interactorEnter seg_writeTIFF vis_sphereWidget2On vis_splineCircleWidgetSetPts vis_gridScalars AreaMetric_poly dcm_ijkLPS TAC_calculator dcm_img_readSlice post_sample img_guessVolParams annotatePick seg3d_exists geom_syncsmooth GetWidgetVariableValue vis_movieRetrieveState Render vis_splineCircleWidgetGetPts PrintCameraView seg_writeVolumeXML vis_pointWidgetGetPosition vis_sphereWidget2Rm vis_unvolRepos seg_writeAllPathDistanceMap PolyDataDeleteRegions img_getPassImages vis_deleteWindow img_calculateStatistics RemoveFromList lset_gridType vis_pReposForUpdate ChangeWaitVar vis_splineClosedWidgetSetPts lset2_showVConst showCmds auto_load vtu_calc_flow_thru_faces bctdat_from_temporal_vtk img_createMIPfromVolume stripzeros intersect_lset vis_splineClosedWidgetGetPts polydata_remesh_mmg group_details lset2_loop group_iditems vis_splineImageWidgetGetShowIds vis_movieAddCameraState seg_writePNG group_set_color tcl_findLibrary crd reorientProfile img_GetVOI Zoom seg_getPDSliceAtPathPoint tk_textCopy vis_render vis_interactorLeave math_degToRad RCR_version repos_deleteList seg_convertPdtoVolumeAndSave vis_movieInitTraversal tk_popup geom_avgNormal set_capids_for_pd post_sampleToVolume math_minVec PolyDataDeleteCells clock path_ApplyTransform math_matrix_exp vis_unvolSetShadingParameters seg_PrintSelectedGroups showArray vis_nodeAddVtk vis_imgRm getPosList vis_splineImageWidgetOn vis_nodeSetColor RCR_branch_optimize vis_pCurve vis_planeWidgetAdd AreaMetric_3 geom_tagAllCellsWithId geom_mkPtsPd img_sortPasses create_polydata_model_from_mesh_surfaces sort_GE_MR_files vis_splineClosedWidgetSetNumHandles vis_textSetup group_size\n"
     ]
    }
   ],
   "source": [
    "info proc"
   ]
  },
  {
   "cell_type": "code",
   "execution_count": 19,
   "metadata": {},
   "outputs": [
    {
     "name": "stdout",
     "output_type": "stream",
     "text": [
      "unknown or ambiguous subcommand \"foo\": must be args, body, class, cmdcount, commands, complete, coroutine, default, errorstack, exists, frame, functions, globals, hostname, level, library, loaded, locals, nameofexecutable, object, patchlevel, procs, script, sharedlibextension, tclversion, or vars\n"
     ]
    }
   ],
   "source": [
    "info foo"
   ]
  },
  {
   "cell_type": "code",
   "execution_count": 21,
   "metadata": {},
   "outputs": [
    {
     "name": "stdout",
     "output_type": "stream",
     "text": []
    }
   ],
   "source": [
    "info commands solid_readNative2"
   ]
  },
  {
   "cell_type": "code",
   "execution_count": 22,
   "metadata": {},
   "outputs": [
    {
     "name": "stdout",
     "output_type": "stream",
     "text": []
    }
   ],
   "source": [
    "proc cmdExists {cmd} {\n",
    "  if {[info commands $cmd] != \"\"} {\n",
    "    return 1\n",
    "  } else {\n",
    "    return 0\n",
    "  }\n",
    "}"
   ]
  },
  {
   "cell_type": "code",
   "execution_count": 23,
   "metadata": {},
   "outputs": [
    {
     "name": "stdout",
     "output_type": "stream",
     "text": [
      "0\n"
     ]
    }
   ],
   "source": [
    "cmdExists foo"
   ]
  },
  {
   "cell_type": "code",
   "execution_count": 24,
   "metadata": {},
   "outputs": [
    {
     "name": "stdout",
     "output_type": "stream",
     "text": [
      "1\n"
     ]
    }
   ],
   "source": [
    "cmdExists repos_list"
   ]
  },
  {
   "cell_type": "code",
   "execution_count": 25,
   "metadata": {},
   "outputs": [
    {
     "name": "stdout",
     "output_type": "stream",
     "text": [
      "g8bitGrayscaleLUT: a vtk object with that name already exists.\n"
     ]
    }
   ],
   "source": [
    "vis_init"
   ]
  },
  {
   "cell_type": "code",
   "execution_count": 27,
   "metadata": {},
   "outputs": [
    {
     "name": "stdout",
     "output_type": "stream",
     "text": [
      "seth_ren1\n"
     ]
    }
   ],
   "source": [
    "vis_initgr seth"
   ]
  },
  {
   "cell_type": "code",
   "execution_count": 29,
   "metadata": {},
   "outputs": [
    {
     "name": "stdout",
     "output_type": "stream",
     "text": [
      "/tmp/svView/nate\n"
     ]
    }
   ],
   "source": [
    "generalView seth_ren1 nate\n"
   ]
  },
  {
   "cell_type": "code",
   "execution_count": null,
   "metadata": {},
   "outputs": [],
   "source": []
  }
 ],
 "metadata": {
  "kernelspec": {
   "display_name": "SimVascular Tcl",
   "language": "tcl",
   "name": "simvascular_tcl"
  },
  "language_info": {
   "codemirror_mode": "shell",
   "file_extension": ".tcl",
   "mimetype": "text/x-sh",
   "name": "simvascular_tcl"
  }
 },
 "nbformat": 4,
 "nbformat_minor": 2
}
