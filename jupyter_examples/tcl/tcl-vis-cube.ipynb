{
 "cells": [
  {
   "cell_type": "markdown",
   "metadata": {},
   "source": [
    "## Make sure that we are running in batch mode with a release build"
   ]
  },
  {
   "cell_type": "code",
   "execution_count": 1,
   "metadata": {},
   "outputs": [
    {
     "name": "stdout",
     "output_type": "stream",
     "text": [
      "1\n"
     ]
    }
   ],
   "source": [
    "set SV_BATCH_MODE 1; set env(SV_BATCH_MODE) 1; set SV_RELEASE_BUILD 1"
   ]
  },
  {
   "cell_type": "markdown",
   "metadata": {},
   "source": [
    "## Need to manually source the startup script to load Tcl commands"
   ]
  },
  {
   "cell_type": "code",
   "execution_count": 2,
   "metadata": {},
   "outputs": [
    {
     "name": "stdout",
     "output_type": "stream",
     "text": [
      "Loading vtk procs...\n",
      "assuming vtk 8.1\n",
      "  TclVtk:      Dynamic Libs (not_loaded: 0)\n",
      "Done loading vtk procs...\n",
      "ERROR: could not find registry key:\n",
      "HKEY_LOCAL_MACHINE\\SOFTWARE\\SimVascular\\SimVascular\\2019-02-26 RunDir\n",
      "Found svPre (C:\\Program Files\\SimVascular\\svSolver\\2019-01-25\\svpre-bin.exe)\n",
      "Found svPost (C:\\Program Files\\SimVascular\\svSolver\\2019-01-25\\svpost-bin.exe)\n",
      "Found svSolver (C:\\Program Files\\SimVascular\\svSolver\\2019-01-25\\svsolver-msmpi-bin.exe)\n"
     ]
    }
   ],
   "source": [
    "source $env(SV_HOME)/Tcl/SimVascular_2.0/simvascular_startup.tcl"
   ]
  },
  {
   "cell_type": "markdown",
   "metadata": {},
   "source": [
    "### Temporary Fix: cmdExists was removed from older versions of SV but has been added back in recent versions"
   ]
  },
  {
   "cell_type": "code",
   "execution_count": 21,
   "metadata": {},
   "outputs": [
    {
     "name": "stdout",
     "output_type": "stream",
     "text": []
    }
   ],
   "source": [
    "# add in a missing function needed by the vis_ layer\n",
    "proc cmdExists {cmd} {\n",
    "  if {[info commands $cmd] != \"\"} {\n",
    "    return 1\n",
    "  } else {\n",
    "    return 0\n",
    "  }\n",
    "}"
   ]
  },
  {
   "cell_type": "markdown",
   "metadata": {},
   "source": [
    "### User needs to select a directory for files (no spaces in path!)"
   ]
  },
  {
   "cell_type": "code",
   "execution_count": 25,
   "metadata": {},
   "outputs": [
    {
     "name": "stdout",
     "output_type": "stream",
     "text": []
    }
   ],
   "source": [
    "cd C:/tmp"
   ]
  },
  {
   "cell_type": "markdown",
   "metadata": {},
   "source": [
    "### Create a solid box (PolyData) and visualize it"
   ]
  },
  {
   "cell_type": "code",
   "execution_count": 26,
   "metadata": {},
   "outputs": [
    {
     "name": "stdout",
     "output_type": "stream",
     "text": [
      "PolyData\n"
     ]
    }
   ],
   "source": [
    "solid_setKernel -name PolyData"
   ]
  },
  {
   "cell_type": "code",
   "execution_count": 27,
   "metadata": {},
   "outputs": [
    {
     "name": "stdout",
     "output_type": "stream",
     "text": [
      "object nate already exists\n"
     ]
    }
   ],
   "source": [
    "solid_box3d -result nate -dims {1 1 1} -ctr {0 0 0}"
   ]
  },
  {
   "cell_type": "code",
   "execution_count": 28,
   "metadata": {},
   "outputs": [
    {
     "name": "stdout",
     "output_type": "stream",
     "text": [
      "nate\n"
     ]
    }
   ],
   "source": [
    "repos_list\n"
   ]
  },
  {
   "cell_type": "code",
   "execution_count": 29,
   "metadata": {},
   "outputs": [
    {
     "name": "stdout",
     "output_type": "stream",
     "text": []
    }
   ],
   "source": [
    "nate WriteNative -file nate.vtp"
   ]
  },
  {
   "cell_type": "code",
   "execution_count": 30,
   "metadata": {},
   "outputs": [
    {
     "name": "stdout",
     "output_type": "stream",
     "text": [
      "g8bitGrayscaleLUT: a vtk object with that name already exists.\n"
     ]
    }
   ],
   "source": [
    "vis_init"
   ]
  },
  {
   "cell_type": "code",
   "execution_count": 31,
   "metadata": {},
   "outputs": [
    {
     "name": "stdout",
     "output_type": "stream",
     "text": [
      "mywin_ren1\n"
     ]
    }
   ],
   "source": [
    "set ren [vis_initgr mywin]"
   ]
  },
  {
   "cell_type": "code",
   "execution_count": 32,
   "metadata": {},
   "outputs": [
    {
     "name": "stdout",
     "output_type": "stream",
     "text": [
      "/tmp/svView/nate\n"
     ]
    }
   ],
   "source": [
    "generalView $ren nate"
   ]
  }
 ],
 "metadata": {
  "kernelspec": {
   "display_name": "SimVascular Tcl",
   "language": "tcl",
   "name": "simvascular_tcl"
  },
  "language_info": {
   "codemirror_mode": "shell",
   "file_extension": ".tcl",
   "mimetype": "text/x-sh",
   "name": "simvascular_tcl"
  }
 },
 "nbformat": 4,
 "nbformat_minor": 2
}
